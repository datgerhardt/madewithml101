{
  "nbformat": 4,
  "nbformat_minor": 0,
  "metadata": {
    "colab": {
      "name": "NumPy101.ipynb",
      "provenance": [],
      "collapsed_sections": [],
      "authorship_tag": "ABX9TyOgVySwiD2uqFXLTiRUPhbC",
      "include_colab_link": true
    },
    "kernelspec": {
      "name": "python3",
      "display_name": "Python 3"
    },
    "language_info": {
      "name": "python"
    }
  },
  "cells": [
    {
      "cell_type": "markdown",
      "metadata": {
        "id": "view-in-github",
        "colab_type": "text"
      },
      "source": [
        "<a href=\"https://colab.research.google.com/github/datgerhardt/madewithml101/blob/main/NumPy101.ipynb\" target=\"_parent\"><img src=\"https://colab.research.google.com/assets/colab-badge.svg\" alt=\"Open In Colab\"/></a>"
      ]
    },
    {
      "cell_type": "markdown",
      "metadata": {
        "id": "VdWrdiM7Qfew"
      },
      "source": [
        "# NumPy Basics "
      ]
    },
    {
      "cell_type": "code",
      "metadata": {
        "id": "2jECQrwDPKe3"
      },
      "source": [
        "import numpy as np"
      ],
      "execution_count": 2,
      "outputs": []
    },
    {
      "cell_type": "code",
      "metadata": {
        "id": "IQHZd-6DPnuL"
      },
      "source": [
        "np.random.seed(seed=1234) # set seed for reproducibility"
      ],
      "execution_count": 3,
      "outputs": []
    },
    {
      "cell_type": "code",
      "metadata": {
        "colab": {
          "base_uri": "https://localhost:8080/"
        },
        "id": "vA2Rbw41Q4Vo",
        "outputId": "ff1f1b21-252e-4175-a311-9822959f827a"
      },
      "source": [
        "# Scalar \n",
        "x= np.array(6)\n",
        "print(\"x: \", x)\n",
        "print(\"x ndim: \", x.ndim) # num of dimensions\n",
        "print(\"x shape: \", x.shape) # dimensions\n",
        "print(\"x size: \", x.size) # size of element\n",
        "print(\"x dtype: \", x.dtype) # data type "
      ],
      "execution_count": 4,
      "outputs": [
        {
          "output_type": "stream",
          "text": [
            "x:  6\n",
            "x ndim:  0\n",
            "x shape:  ()\n",
            "x size:  1\n",
            "x dtype:  int64\n"
          ],
          "name": "stdout"
        }
      ]
    },
    {
      "cell_type": "code",
      "metadata": {
        "colab": {
          "base_uri": "https://localhost:8080/"
        },
        "id": "ZGkjrg7lR2YT",
        "outputId": "012d163c-83df-424b-a97e-29a326d0d979"
      },
      "source": [
        "# Vector\n",
        "x = np.array([1.3, 2.2, 17])\n",
        "print(\"x: \", x)\n",
        "print(\"x ndim: \", x.ndim) \n",
        "print(\"x shape: \", x.shape)\n",
        "print(\"x size: \", x.size) \n",
        "print(\"x dtype: \", x.dtype) # take notice of this  "
      ],
      "execution_count": 5,
      "outputs": [
        {
          "output_type": "stream",
          "text": [
            "x:  [ 1.3  2.2 17. ]\n",
            "x ndim:  1\n",
            "x shape:  (3,)\n",
            "x size:  3\n",
            "x dtype:  float64\n"
          ],
          "name": "stdout"
        }
      ]
    },
    {
      "cell_type": "code",
      "metadata": {
        "colab": {
          "base_uri": "https://localhost:8080/"
        },
        "id": "tRCl_C5qSPbN",
        "outputId": "f4fb7d4f-c984-4a90-e765-cb0c17b778dd"
      },
      "source": [
        "# Matrix\n",
        "x = np.array([[1.3, 2.2], [17.9]])\n",
        "print(\"x: \", x)\n",
        "print(\"x ndim: \", x.ndim) \n",
        "print(\"x shape: \", x.shape)\n",
        "print(\"x size: \", x.size) \n",
        "print(\"x dtype: \", x.dtype) # take notice of this  "
      ],
      "execution_count": 6,
      "outputs": [
        {
          "output_type": "stream",
          "text": [
            "x:  [list([1.3, 2.2]) list([17.9])]\n",
            "x ndim:  1\n",
            "x shape:  (2,)\n",
            "x size:  2\n",
            "x dtype:  object\n"
          ],
          "name": "stdout"
        },
        {
          "output_type": "stream",
          "text": [
            "/usr/local/lib/python3.7/dist-packages/ipykernel_launcher.py:2: VisibleDeprecationWarning: Creating an ndarray from ragged nested sequences (which is a list-or-tuple of lists-or-tuples-or ndarrays with different lengths or shapes) is deprecated. If you meant to do this, you must specify 'dtype=object' when creating the ndarray\n",
            "  \n"
          ],
          "name": "stderr"
        }
      ]
    },
    {
      "cell_type": "code",
      "metadata": {
        "colab": {
          "base_uri": "https://localhost:8080/"
        },
        "id": "7Hah8qfsTLEK",
        "outputId": "73a25b3a-dc41-469b-9e17-4cc056fbd5df"
      },
      "source": [
        "# Matrix\n",
        "x = np.array([[1.3, 2.2], [17.9,23.0]])\n",
        "print(\"x: \", x)\n",
        "print(\"x ndim: \", x.ndim) \n",
        "print(\"x shape: \", x.shape)\n",
        "print(\"x size: \", x.size) \n",
        "print(\"x dtype: \", x.dtype) # take notice of this  "
      ],
      "execution_count": 7,
      "outputs": [
        {
          "output_type": "stream",
          "text": [
            "x:  [[ 1.3  2.2]\n",
            " [17.9 23. ]]\n",
            "x ndim:  2\n",
            "x shape:  (2, 2)\n",
            "x size:  4\n",
            "x dtype:  float64\n"
          ],
          "name": "stdout"
        }
      ]
    },
    {
      "cell_type": "code",
      "metadata": {
        "colab": {
          "base_uri": "https://localhost:8080/"
        },
        "id": "3VcfUJHNTaUf",
        "outputId": "97e28a5d-eace-4a23-9eee-6b0ecf5e7c17"
      },
      "source": [
        "# 3-D Tensor\n",
        "x = np.array([[[1, 2],[3,4]], [[5,6],[7,8]]])\n",
        "print(\"x: \", x)\n",
        "print(\"x ndim: \", x.ndim) \n",
        "print(\"x shape: \", x.shape)\n",
        "print(\"x size: \", x.size) \n",
        "print(\"x dtype: \", x.dtype) "
      ],
      "execution_count": 8,
      "outputs": [
        {
          "output_type": "stream",
          "text": [
            "x:  [[[1 2]\n",
            "  [3 4]]\n",
            "\n",
            " [[5 6]\n",
            "  [7 8]]]\n",
            "x ndim:  3\n",
            "x shape:  (2, 2, 2)\n",
            "x size:  8\n",
            "x dtype:  int64\n"
          ],
          "name": "stdout"
        }
      ]
    },
    {
      "cell_type": "markdown",
      "metadata": {
        "id": "RJ2iWYhqUH5t"
      },
      "source": [
        "# Functions"
      ]
    },
    {
      "cell_type": "code",
      "metadata": {
        "colab": {
          "base_uri": "https://localhost:8080/"
        },
        "id": "R22vSNhNT4Lu",
        "outputId": "6df6d2bf-a75e-4c81-d5b7-17fd82c49a3c"
      },
      "source": [
        "# Functions\n",
        "print (\"np.zero((2,2)):\\n\", np.zeros((2,2)))\n",
        "print (\"np.ones((2,2)):\\n\", np.ones((2,2)))\n",
        "print (\"np.eyes((2)):\\n\", np.eye((2))) # identity matrix\n",
        "print(\"np.random.random((2,2))\\n\", np.random.random((2,2)))"
      ],
      "execution_count": 27,
      "outputs": [
        {
          "output_type": "stream",
          "text": [
            "np.zero((2,2)):\n",
            " [[0. 0.]\n",
            " [0. 0.]]\n",
            "np.ones((2,2)):\n",
            " [[1. 1.]\n",
            " [1. 1.]]\n",
            "np.eyes((2)):\n",
            " [[1. 0.]\n",
            " [0. 1.]]\n",
            "np.random.random((2,2))\n",
            " [[0.68346294 0.71270203]\n",
            " [0.37025075 0.56119619]]\n"
          ],
          "name": "stdout"
        }
      ]
    },
    {
      "cell_type": "markdown",
      "metadata": {
        "id": "HCSWMjwsVyLh"
      },
      "source": [
        "# Indexing"
      ]
    },
    {
      "cell_type": "code",
      "metadata": {
        "colab": {
          "base_uri": "https://localhost:8080/"
        },
        "id": "ovcnxCi9UZ0G",
        "outputId": "6415df38-007a-47b7-f783-d602ec4be2d0"
      },
      "source": [
        "# Indexing \n",
        "x = np.array([1,2,3])\n",
        "print(\"x: \", x)\n",
        "print(\"x[0]: \", x[0])\n",
        "x[0] = 0 # resigning the first index with 0\n",
        "print (\"x: \", x)"
      ],
      "execution_count": 10,
      "outputs": [
        {
          "output_type": "stream",
          "text": [
            "x:  [1 2 3]\n",
            "x[0]:  1\n",
            "x:  [0 2 3]\n"
          ],
          "name": "stdout"
        }
      ]
    },
    {
      "cell_type": "code",
      "metadata": {
        "colab": {
          "base_uri": "https://localhost:8080/"
        },
        "id": "czLxi98pWcZn",
        "outputId": "a5e9ee16-a4b4-4be5-a430-6f827db72f66"
      },
      "source": [
        "# Slicing or selecting part\n",
        "x = np.array([[1,2,3,4], [5,6,7,8], [9,10,11,12]])\n",
        "print(x)\n",
        "print(\"Column 1: \", x[:, 1])\n",
        "print(\"Row 0: \", x[1,:])\n",
        "print (\"x rows 0,1 & cols 1,2: \\n\", x[0:2, 1:3])"
      ],
      "execution_count": 11,
      "outputs": [
        {
          "output_type": "stream",
          "text": [
            "[[ 1  2  3  4]\n",
            " [ 5  6  7  8]\n",
            " [ 9 10 11 12]]\n",
            "Column 1:  [ 2  6 10]\n",
            "Row 0:  [5 6 7 8]\n",
            "x rows 0,1 & cols 1,2: \n",
            " [[2 3]\n",
            " [6 7]]\n"
          ],
          "name": "stdout"
        }
      ]
    },
    {
      "cell_type": "code",
      "metadata": {
        "id": "wpVsVtcHXIN-",
        "colab": {
          "base_uri": "https://localhost:8080/"
        },
        "outputId": "04ae41a6-83c8-4635-8394-37e0c78cecb1"
      },
      "source": [
        "# Integer array indexing \n",
        "print(x)\n",
        "rows_to_get = np.array([0,1,2])\n",
        "print(\"rows_to_get: \",rows_to_get)\n",
        "cols_to_get = np.array([0,2,1])\n",
        "print(\"cols_to_get: \",cols_to_get)\n",
        "# Combine sequences above to get valuse to get \n",
        "print(\"indexed values: \",x[rows_to_get,cols_to_get])"
      ],
      "execution_count": 21,
      "outputs": [
        {
          "output_type": "stream",
          "text": [
            "[[ 1  2  3  4]\n",
            " [ 5  6  7  8]\n",
            " [ 9 10 11 12]]\n",
            "rows_to_get:  [0 1 2]\n",
            "cols_to_get:  [0 2 1]\n",
            "indexed values:  [ 1  7 10]\n"
          ],
          "name": "stdout"
        }
      ]
    },
    {
      "cell_type": "code",
      "metadata": {
        "colab": {
          "base_uri": "https://localhost:8080/"
        },
        "id": "RXQO4-m_TXft",
        "outputId": "4974764c-0fc9-4fcb-de18-d576d378bbef"
      },
      "source": [
        "# Boolean arra indexing \n",
        "x = np.array([[1, 2], [3, 4], [5, 6]])\n",
        "print(\"x: \\n\",x)\n",
        "print(\"x > 2: \\n\",x > 2)\n",
        "print(\"x[x > 2]:\\n\", x[x > 2])\n",
        "print(\"Shape of x[x > 2]: \", x[x > 2].shape)"
      ],
      "execution_count": 24,
      "outputs": [
        {
          "output_type": "stream",
          "text": [
            "x: \n",
            " [[1 2]\n",
            " [3 4]\n",
            " [5 6]]\n",
            "x > 2: \n",
            " [[False False]\n",
            " [ True  True]\n",
            " [ True  True]]\n",
            "x[x > 2]:\n",
            " [3 4 5 6]\n",
            "Shape of x[x > 2]:  (4,)\n"
          ],
          "name": "stdout"
        }
      ]
    },
    {
      "cell_type": "code",
      "metadata": {
        "colab": {
          "base_uri": "https://localhost:8080/"
        },
        "id": "GXjxpZdBVfOu",
        "outputId": "a63976c0-1888-4ac9-ac3a-36f3740744be"
      },
      "source": [
        "# Basic Math\n",
        "x = np.array([[1,2], [3,4]], dtype=np.float64)\n",
        "y = np.array([[1,2], [3,4]], dtype=np.float64)\n",
        "print(\"x + y:\\n\", np.add(x,y))\n",
        "print(\"x - y:\\n\", np.subtract(x,y))\n",
        "print(\"x * y:\\n\", np.multiply(x,y))"
      ],
      "execution_count": 29,
      "outputs": [
        {
          "output_type": "stream",
          "text": [
            "x + y:\n",
            " [[2. 4.]\n",
            " [6. 8.]]\n",
            "x - y:\n",
            " [[0. 0.]\n",
            " [0. 0.]]\n",
            "x * y:\n",
            " [[ 1.  4.]\n",
            " [ 9. 16.]]\n"
          ],
          "name": "stdout"
        }
      ]
    },
    {
      "cell_type": "markdown",
      "metadata": {
        "id": "kN6-k2W4XoVb"
      },
      "source": [
        "# Dot product "
      ]
    },
    {
      "cell_type": "code",
      "metadata": {
        "colab": {
          "base_uri": "https://localhost:8080/"
        },
        "id": "x-O-OH-aXfmZ",
        "outputId": "7ed30181-d5a6-4b1f-a6f0-c22c9ef508a8"
      },
      "source": [
        "# Dot product\n",
        "a = np.array([[1,2,3], [4,5,6]], dtype=np.float64) # we can specify dtype\n",
        "b = np.array([[7,8], [9,10], [11, 12]], dtype=np.float64)\n",
        "c = a.dot(b)\n",
        "print(f\"{a.shape} . {b.shape} = {c.shape}\")\n",
        "print(c)"
      ],
      "execution_count": 30,
      "outputs": [
        {
          "output_type": "stream",
          "text": [
            "(2, 3) . (3, 2) = (2, 2)\n",
            "[[ 58.  64.]\n",
            " [139. 154.]]\n"
          ],
          "name": "stdout"
        }
      ]
    },
    {
      "cell_type": "markdown",
      "metadata": {
        "id": "k3dhDSO3YXRQ"
      },
      "source": [
        "# Axis operation "
      ]
    },
    {
      "cell_type": "code",
      "metadata": {
        "colab": {
          "base_uri": "https://localhost:8080/"
        },
        "id": "yZcIegyMYNzm",
        "outputId": "0d762901-9254-4851-e4da-2d4764dc68c4"
      },
      "source": [
        "# Sum across a dimension\n",
        "x = np.array([[1,2],[3,4]])\n",
        "print(x)\n",
        "print(\"sum all: \", np.sum(x)) # adding all elements\n",
        "print(\"sum axis=0: \", np.sum(x, axis=0, dtype=np.int64)) # adding all elements\n",
        "print(\"sum axis=1: \", np.sum(x, axis=1, dtype=np.int64)) # adding all elements"
      ],
      "execution_count": 36,
      "outputs": [
        {
          "output_type": "stream",
          "text": [
            "[[1 2]\n",
            " [3 4]]\n",
            "sum all:  10\n",
            "sum axis=0:  [4 6]\n",
            "sum axis=1:  [3 7]\n"
          ],
          "name": "stdout"
        }
      ]
    },
    {
      "cell_type": "code",
      "metadata": {
        "colab": {
          "base_uri": "https://localhost:8080/"
        },
        "id": "XRh9yWFcZw_O",
        "outputId": "475fc3be-6d58-4d0c-92b5-a49acd4800e4"
      },
      "source": [
        "# Sum across a dimension\n",
        "x = np.array([[1,2],[3,4],[5,6]])\n",
        "print(x)\n",
        "print(\"sum all: \", np.sum(x)) # adding all elements\n",
        "print(\"sum axis=0: \", np.sum(x, axis=0, dtype=np.int64)) # adding all elements\n",
        "print(\"sum axis=1: \", np.sum(x, axis=1, dtype=np.int64)) # adding all elements\n",
        "print(\"sum axis=2: \", np.sum(x, axis=1, dtype=np.int64)) # adding all elements"
      ],
      "execution_count": 38,
      "outputs": [
        {
          "output_type": "stream",
          "text": [
            "[[1 2]\n",
            " [3 4]\n",
            " [5 6]]\n",
            "sum all:  21\n",
            "sum axis=0:  [ 9 12]\n",
            "sum axis=1:  [ 3  7 11]\n",
            "sum axis=2:  [ 3  7 11]\n"
          ],
          "name": "stdout"
        }
      ]
    },
    {
      "cell_type": "code",
      "metadata": {
        "colab": {
          "base_uri": "https://localhost:8080/"
        },
        "id": "TF2W08ZLZD_U",
        "outputId": "93123c93-e9de-46a1-f0c9-9ffc1fe53bbe"
      },
      "source": [
        "# Min/max\n",
        "x = np.array ([[1,2,3],[4,5,6]])\n",
        "print(\"min: \", x.min()) \n",
        "print(\"max: \", x.max()) \n",
        "print(\"min axis=0: \", x.min(axis=0)) \n",
        "print(\"min axis=1: \", x.min(axis=1)) \n",
        "print(\"max axis=0: \", x.max(axis=0)) \n",
        "print(\"max axis=1: \", x.max(axis=1)) "
      ],
      "execution_count": 40,
      "outputs": [
        {
          "output_type": "stream",
          "text": [
            "min:  1\n",
            "max:  6\n",
            "min axis=0:  [1 2 3]\n",
            "min axis=1:  [1 4]\n",
            "max axis=0:  [4 5 6]\n",
            "max axis=1:  [3 6]\n"
          ],
          "name": "stdout"
        }
      ]
    },
    {
      "cell_type": "markdown",
      "metadata": {
        "id": "t36tfN_RbIFg"
      },
      "source": [
        "# Broadcasting"
      ]
    },
    {
      "cell_type": "code",
      "metadata": {
        "colab": {
          "base_uri": "https://localhost:8080/"
        },
        "id": "pZi--iE4bPU8",
        "outputId": "1f83984d-d279-419c-92b7-7d8bc7639f8b"
      },
      "source": [
        "# Broadcasting\n",
        "x = np.array([1,2]) # vector\n",
        "y = np.array(3) # scalar\n",
        "z = x + y\n",
        "print(\"z:\\n\", z)"
      ],
      "execution_count": 42,
      "outputs": [
        {
          "output_type": "stream",
          "text": [
            "z:\n",
            " [4 5]\n"
          ],
          "name": "stdout"
        }
      ]
    },
    {
      "cell_type": "code",
      "metadata": {
        "colab": {
          "base_uri": "https://localhost:8080/"
        },
        "id": "e8jsvttcbxIM",
        "outputId": "d810272b-c975-4cb3-a299-ddfdf18374a4"
      },
      "source": [
        "# Transposing \n",
        "x = np.array([[1,2,3],[4,5,6]])\n",
        "print(\"x: \\n\", x)\n",
        "print(\"x.shape: \", x.shape)\n",
        "y = np.transpose(x, (1,0))\n",
        "print(\"y: \\n\", y)\n",
        "print(\"y.shape: \", y.shape)\n",
        "print(\"y transpose:\\n\", y.T) # or <<<"
      ],
      "execution_count": 45,
      "outputs": [
        {
          "output_type": "stream",
          "text": [
            "x: \n",
            " [[1 2 3]\n",
            " [4 5 6]]\n",
            "x.shape:  (2, 3)\n",
            "y: \n",
            " [[1 4]\n",
            " [2 5]\n",
            " [3 6]]\n",
            "y.shape:  (3, 2)\n",
            "y transpose:\n",
            " [[1 2 3]\n",
            " [4 5 6]]\n"
          ],
          "name": "stdout"
        }
      ]
    },
    {
      "cell_type": "code",
      "metadata": {
        "colab": {
          "base_uri": "https://localhost:8080/"
        },
        "id": "PLINeN0PcqK5",
        "outputId": "8669116a-e3ec-492d-d5a1-8936d15ba63b"
      },
      "source": [
        "# Reshaping\n",
        "x = np.array([[1,2,3,4,5,6]]) \n",
        "print(x)\n",
        "print(\"x.shape: \", x.shape)\n",
        "y = np.reshape(x, (2,3))\n",
        "print(\"y:\\n\", y)\n",
        "print(\"y.shape: \", y.shape)\n",
        "z = np.reshape(x, (2, -1))\n",
        "print(\"z:\\n\", z)\n",
        "print(\"z.shape: \", z.shape)"
      ],
      "execution_count": 47,
      "outputs": [
        {
          "output_type": "stream",
          "text": [
            "[[1 2 3 4 5 6]]\n",
            "x.shape:  (1, 6)\n",
            "y:\n",
            " [[1 2 3]\n",
            " [4 5 6]]\n",
            "y.shape:  (2, 3)\n",
            "z:\n",
            " [[1 2 3]\n",
            " [4 5 6]]\n",
            "z.shape:  (2, 3)\n"
          ],
          "name": "stdout"
        }
      ]
    },
    {
      "cell_type": "markdown",
      "metadata": {
        "id": "Ojm9BVDvgP6F"
      },
      "source": [
        "# Unintended reshaping\n"
      ]
    },
    {
      "cell_type": "code",
      "metadata": {
        "colab": {
          "base_uri": "https://localhost:8080/"
        },
        "id": "_CWHIn3FeePs",
        "outputId": "19dd5846-0649-4b98-e484-067636adce87"
      },
      "source": [
        "x = np.array([[[1, 1, 1, 1], [2, 2, 2, 2], [3, 3, 3, 3]],\n",
        "              [[10, 10, 10, 10], [20, 20, 20, 20], [30, 30, 30, 30]]])\n",
        "print (\"x:\\n\", x)\n",
        "print (\"x.shape: \", x.shape)"
      ],
      "execution_count": 48,
      "outputs": [
        {
          "output_type": "stream",
          "text": [
            "x:\n",
            " [[[ 1  1  1  1]\n",
            "  [ 2  2  2  2]\n",
            "  [ 3  3  3  3]]\n",
            "\n",
            " [[10 10 10 10]\n",
            "  [20 20 20 20]\n",
            "  [30 30 30 30]]]\n",
            "x.shape:  (2, 3, 4)\n"
          ],
          "name": "stdout"
        }
      ]
    },
    {
      "cell_type": "code",
      "metadata": {
        "colab": {
          "base_uri": "https://localhost:8080/"
        },
        "id": "pg39Qn9HgSww",
        "outputId": "de9e652c-356a-4a1d-b2e4-56f2de969ec1"
      },
      "source": [
        "# Unintended reshaping \n",
        "z_incorrect = np.reshape(x, (x.shape[1], -1))\n",
        "print(\"z_incorrect: \", z_incorrect)\n",
        "print(\"z_incorrect.shape: \", z_incorrect.shape)"
      ],
      "execution_count": 53,
      "outputs": [
        {
          "output_type": "stream",
          "text": [
            "z_incorrect:  [[ 1  1  1  1  2  2  2  2]\n",
            " [ 3  3  3  3 10 10 10 10]\n",
            " [20 20 20 20 30 30 30 30]]\n",
            "z_incorrect.shape:  (3, 8)\n"
          ],
          "name": "stdout"
        }
      ]
    },
    {
      "cell_type": "code",
      "metadata": {
        "colab": {
          "base_uri": "https://localhost:8080/"
        },
        "id": "f9mENTMAhoaT",
        "outputId": "ba7f0407-ed78-4c64-a04d-a48e2c14de84"
      },
      "source": [
        "# Intended reshaping \n",
        "y = np.transpose(x, (1,0,2))\n",
        "print(\"y:\\n\",y)\n",
        "print(\"y.shape: \", y.shape)\n",
        "z_correct = np.reshape(y, (y.shape[0], -1))\n",
        "print(\"z_correct:\\n\", z_correct)\n",
        "print(\"z_correct.shape: \",z_correct.shape)"
      ],
      "execution_count": 55,
      "outputs": [
        {
          "output_type": "stream",
          "text": [
            "y:\n",
            " [[[ 1  1  1  1]\n",
            "  [10 10 10 10]]\n",
            "\n",
            " [[ 2  2  2  2]\n",
            "  [20 20 20 20]]\n",
            "\n",
            " [[ 3  3  3  3]\n",
            "  [30 30 30 30]]]\n",
            "y.shape:  (3, 2, 4)\n",
            "z_correct:\n",
            " [[ 1  1  1  1 10 10 10 10]\n",
            " [ 2  2  2  2 20 20 20 20]\n",
            " [ 3  3  3  3 30 30 30 30]]\n",
            "z_correct.shape:  (3, 8)\n"
          ],
          "name": "stdout"
        }
      ]
    },
    {
      "cell_type": "markdown",
      "metadata": {
        "id": "JCop1wTGkUVn"
      },
      "source": [
        "# Expanding/ reducing"
      ]
    },
    {
      "cell_type": "code",
      "metadata": {
        "colab": {
          "base_uri": "https://localhost:8080/"
        },
        "id": "PMgO6-WpjcJ1",
        "outputId": "7f776b04-212e-46a6-f7da-d3021a2b09c2"
      },
      "source": [
        "# Adding dimensions \n",
        "x = np.array([[1,2,3],[4,5,6]])\n",
        "print (\"x:\\n\", x)\n",
        "print (\"x.shape: \", x.shape)\n",
        "y = np.expand_dims(x, 1)  # expand dim 1 \n",
        "print (\"y: \\n\", y)\n",
        "print (\"y.shape: \", y.shape)   # notice extra set of brackets are added"
      ],
      "execution_count": 59,
      "outputs": [
        {
          "output_type": "stream",
          "text": [
            "x:\n",
            " [[1 2 3]\n",
            " [4 5 6]]\n",
            "x.shape:  (2, 3)\n",
            "y: \n",
            " [[[1 2 3]]\n",
            "\n",
            " [[4 5 6]]]\n",
            "y.shape:  (2, 1, 3)\n"
          ],
          "name": "stdout"
        }
      ]
    },
    {
      "cell_type": "code",
      "metadata": {
        "colab": {
          "base_uri": "https://localhost:8080/"
        },
        "id": "pw-6zzoTlShp",
        "outputId": "20860618-9975-4bef-b9ed-955d5bad374f"
      },
      "source": [
        "# Removing dimensions \n",
        "x = np.array([[[1,2,3]],[[4,5,6]]])\n",
        "print (\"x:\\n\", x)\n",
        "print (\"x.shape: \", x.shape)\n",
        "y = np.squeeze(x, 1)  # squeeze dim 1 \n",
        "print (\"y: \\n\", y)\n",
        "print (\"y.shape: \", y.shape)   # notice extra set of brackets are added"
      ],
      "execution_count": 65,
      "outputs": [
        {
          "output_type": "stream",
          "text": [
            "x:\n",
            " [[[1 2 3]]\n",
            "\n",
            " [[4 5 6]]]\n",
            "x.shape:  (2, 1, 3)\n",
            "y: \n",
            " [[1 2 3]\n",
            " [4 5 6]]\n",
            "y.shape:  (2, 3)\n"
          ],
          "name": "stdout"
        }
      ]
    },
    {
      "cell_type": "code",
      "metadata": {
        "id": "zlEP4xl1p-Wj"
      },
      "source": [
        ""
      ],
      "execution_count": null,
      "outputs": []
    }
  ]
}