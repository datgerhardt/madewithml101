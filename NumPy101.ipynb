{
  "nbformat": 4,
  "nbformat_minor": 0,
  "metadata": {
    "colab": {
      "name": "NumPy101.ipynb",
      "provenance": [],
      "collapsed_sections": [],
      "authorship_tag": "ABX9TyNyX0kdGM6FPdk02ZHW0J+i",
      "include_colab_link": true
    },
    "kernelspec": {
      "name": "python3",
      "display_name": "Python 3"
    },
    "language_info": {
      "name": "python"
    }
  },
  "cells": [
    {
      "cell_type": "markdown",
      "metadata": {
        "id": "view-in-github",
        "colab_type": "text"
      },
      "source": [
        "<a href=\"https://colab.research.google.com/github/datgerhardt/madewithml101/blob/main/NumPy101.ipynb\" target=\"_parent\"><img src=\"https://colab.research.google.com/assets/colab-badge.svg\" alt=\"Open In Colab\"/></a>"
      ]
    },
    {
      "cell_type": "markdown",
      "metadata": {
        "id": "VdWrdiM7Qfew"
      },
      "source": [
        "# NumPy Basics "
      ]
    },
    {
      "cell_type": "code",
      "metadata": {
        "id": "2jECQrwDPKe3"
      },
      "source": [
        "import numpy as np"
      ],
      "execution_count": 2,
      "outputs": []
    },
    {
      "cell_type": "code",
      "metadata": {
        "id": "IQHZd-6DPnuL"
      },
      "source": [
        "np.random.seed(seed=1234) # set seed for reproducibility"
      ],
      "execution_count": 3,
      "outputs": []
    },
    {
      "cell_type": "code",
      "metadata": {
        "colab": {
          "base_uri": "https://localhost:8080/"
        },
        "id": "vA2Rbw41Q4Vo",
        "outputId": "75063b70-a225-413e-ffea-6569300e7184"
      },
      "source": [
        "# Scalar \n",
        "x= np.array(6)\n",
        "print(\"x: \", x)\n",
        "print(\"x ndim: \", x.ndim) # num of dimensions\n",
        "print(\"x shape: \", x.shape) # dimensions\n",
        "print(\"x size: \", x.size) # size of element\n",
        "print(\"x dtype: \", x.dtype) # data type "
      ],
      "execution_count": 4,
      "outputs": [
        {
          "output_type": "stream",
          "text": [
            "x:  6\n",
            "x ndim:  0\n",
            "x shape:  ()\n",
            "x size:  1\n",
            "x dtype:  int64\n"
          ],
          "name": "stdout"
        }
      ]
    },
    {
      "cell_type": "code",
      "metadata": {
        "colab": {
          "base_uri": "https://localhost:8080/"
        },
        "id": "ZGkjrg7lR2YT",
        "outputId": "67da65cf-3c5c-462e-a197-3d6d035f98e0"
      },
      "source": [
        "# Vector\n",
        "x = np.array([1.3, 2.2, 17])\n",
        "print(\"x: \", x)\n",
        "print(\"x ndim: \", x.ndim) \n",
        "print(\"x shape: \", x.shape)\n",
        "print(\"x size: \", x.size) \n",
        "print(\"x dtype: \", x.dtype) # take notice of this  "
      ],
      "execution_count": 5,
      "outputs": [
        {
          "output_type": "stream",
          "text": [
            "x:  [ 1.3  2.2 17. ]\n",
            "x ndim:  1\n",
            "x shape:  (3,)\n",
            "x size:  3\n",
            "x dtype:  float64\n"
          ],
          "name": "stdout"
        }
      ]
    },
    {
      "cell_type": "code",
      "metadata": {
        "colab": {
          "base_uri": "https://localhost:8080/"
        },
        "id": "tRCl_C5qSPbN",
        "outputId": "554825c8-90e4-46b5-fc13-75f9fda061d5"
      },
      "source": [
        "# Matrix\n",
        "x = np.array([[1.3, 2.2], [17.9]])\n",
        "print(\"x: \", x)\n",
        "print(\"x ndim: \", x.ndim) \n",
        "print(\"x shape: \", x.shape)\n",
        "print(\"x size: \", x.size) \n",
        "print(\"x dtype: \", x.dtype) # take notice of this  "
      ],
      "execution_count": 7,
      "outputs": [
        {
          "output_type": "stream",
          "text": [
            "x:  [list([1.3, 2.2]) list([17.9])]\n",
            "x ndim:  1\n",
            "x shape:  (2,)\n",
            "x size:  2\n",
            "x dtype:  object\n"
          ],
          "name": "stdout"
        },
        {
          "output_type": "stream",
          "text": [
            "/usr/local/lib/python3.7/dist-packages/ipykernel_launcher.py:2: VisibleDeprecationWarning: Creating an ndarray from ragged nested sequences (which is a list-or-tuple of lists-or-tuples-or ndarrays with different lengths or shapes) is deprecated. If you meant to do this, you must specify 'dtype=object' when creating the ndarray\n",
            "  \n"
          ],
          "name": "stderr"
        }
      ]
    },
    {
      "cell_type": "code",
      "metadata": {
        "colab": {
          "base_uri": "https://localhost:8080/"
        },
        "id": "7Hah8qfsTLEK",
        "outputId": "8d7276c1-d394-4654-ca6d-220d36d870ca"
      },
      "source": [
        "# Matrix\n",
        "x = np.array([[1.3, 2.2], [17.9,23.0]])\n",
        "print(\"x: \", x)\n",
        "print(\"x ndim: \", x.ndim) \n",
        "print(\"x shape: \", x.shape)\n",
        "print(\"x size: \", x.size) \n",
        "print(\"x dtype: \", x.dtype) # take notice of this  "
      ],
      "execution_count": 8,
      "outputs": [
        {
          "output_type": "stream",
          "text": [
            "x:  [[ 1.3  2.2]\n",
            " [17.9 23. ]]\n",
            "x ndim:  2\n",
            "x shape:  (2, 2)\n",
            "x size:  4\n",
            "x dtype:  float64\n"
          ],
          "name": "stdout"
        }
      ]
    },
    {
      "cell_type": "code",
      "metadata": {
        "colab": {
          "base_uri": "https://localhost:8080/"
        },
        "id": "3VcfUJHNTaUf",
        "outputId": "f714a210-591d-494c-f065-947db40d53f2"
      },
      "source": [
        "# 3-D Tensor\n",
        "x = np.array([[[1, 2],[3,4]], [[5,6],[7,8]]])\n",
        "print(\"x: \", x)\n",
        "print(\"x ndim: \", x.ndim) \n",
        "print(\"x shape: \", x.shape)\n",
        "print(\"x size: \", x.size) \n",
        "print(\"x dtype: \", x.dtype) "
      ],
      "execution_count": 10,
      "outputs": [
        {
          "output_type": "stream",
          "text": [
            "x:  [[[1 2]\n",
            "  [3 4]]\n",
            "\n",
            " [[5 6]\n",
            "  [7 8]]]\n",
            "x ndim:  3\n",
            "x shape:  (2, 2, 2)\n",
            "x size:  8\n",
            "x dtype:  int64\n"
          ],
          "name": "stdout"
        }
      ]
    },
    {
      "cell_type": "markdown",
      "metadata": {
        "id": "RJ2iWYhqUH5t"
      },
      "source": [
        "# Functions"
      ]
    },
    {
      "cell_type": "code",
      "metadata": {
        "colab": {
          "base_uri": "https://localhost:8080/"
        },
        "id": "R22vSNhNT4Lu",
        "outputId": "5a840dd8-496d-44a4-c886-d784581144fe"
      },
      "source": [
        "# Functions\n",
        "print (\"np.zero((2,2)):\\n\", np.zeros((2,2)))\n",
        "print (\"np.ones((2,2)):\\n\", np.ones((2,2)))\n",
        "print (\"np.eyes((2)):\\n\", np.eye((2))) # identity matrix\n",
        "print(\"np.random.random((2,2))\\n\", np.random.random((2,2)))"
      ],
      "execution_count": 22,
      "outputs": [
        {
          "output_type": "stream",
          "text": [
            "np.zero((2,2)):\n",
            " [[0. 0.]\n",
            " [0. 0.]]\n",
            "np.ones((2,2)):\n",
            " [[1. 1.]\n",
            " [1. 1.]]\n",
            "np.eyes((2)):\n",
            " [[1. 0.]\n",
            " [0. 1.]]\n",
            "np.random.random((2,2))\n",
            " [[0.21879211 0.92486763]\n",
            " [0.44214076 0.90931596]]\n"
          ],
          "name": "stdout"
        }
      ]
    },
    {
      "cell_type": "markdown",
      "metadata": {
        "id": "HCSWMjwsVyLh"
      },
      "source": [
        "# Indexing"
      ]
    },
    {
      "cell_type": "code",
      "metadata": {
        "colab": {
          "base_uri": "https://localhost:8080/"
        },
        "id": "ovcnxCi9UZ0G",
        "outputId": "60bff928-f604-4e03-fb7b-d853bda2329b"
      },
      "source": [
        "# Indexing \n",
        "x = np.array([1,2,3])\n",
        "print(\"x: \", x)\n",
        "print(\"x[0]: \", x[0])\n",
        "x[0] = 0 # resigning the first index with 0\n",
        "print (\"x: \", x)"
      ],
      "execution_count": 23,
      "outputs": [
        {
          "output_type": "stream",
          "text": [
            "x:  [1 2 3]\n",
            "x[0]:  1\n",
            "x:  [0 2 3]\n"
          ],
          "name": "stdout"
        }
      ]
    },
    {
      "cell_type": "code",
      "metadata": {
        "colab": {
          "base_uri": "https://localhost:8080/"
        },
        "id": "czLxi98pWcZn",
        "outputId": "d1041934-07d5-4d34-ad3e-ef1e80ed4098"
      },
      "source": [
        "# Slicing or selecting part\n",
        "x = np.array([[1,2,3,4], [5,6,7,8], [9,10,11,12]])\n",
        "print(x)\n",
        "print(\"Column 1: \", x[:, 1])\n",
        "print(\"Row 0: \", x[1,:])\n",
        "print (\"x rows 0,1 & cols 1,2: \\n\", x[0:2, 1:3])"
      ],
      "execution_count": 25,
      "outputs": [
        {
          "output_type": "stream",
          "text": [
            "[[ 1  2  3  4]\n",
            " [ 5  6  7  8]\n",
            " [ 9 10 11 12]]\n",
            "Column 1:  [ 2  6 10]\n",
            "Row 0:  [5 6 7 8]\n",
            "x rows 0,1 & cols 1,2: \n",
            " [[2 3]\n",
            " [6 7]]\n"
          ],
          "name": "stdout"
        }
      ]
    },
    {
      "cell_type": "code",
      "metadata": {
        "id": "wpVsVtcHXIN-"
      },
      "source": [
        ""
      ],
      "execution_count": null,
      "outputs": []
    }
  ]
}