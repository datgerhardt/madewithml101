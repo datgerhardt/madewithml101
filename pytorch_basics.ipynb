{
  "nbformat": 4,
  "nbformat_minor": 0,
  "metadata": {
    "colab": {
      "name": "pytorch basics.ipynb",
      "provenance": [],
      "collapsed_sections": [],
      "authorship_tag": "ABX9TyM0CHlPjZnH2YC2SDvSPPX8",
      "include_colab_link": true
    },
    "kernelspec": {
      "name": "python3",
      "display_name": "Python 3"
    },
    "language_info": {
      "name": "python"
    },
    "accelerator": "GPU"
  },
  "cells": [
    {
      "cell_type": "markdown",
      "metadata": {
        "id": "view-in-github",
        "colab_type": "text"
      },
      "source": [
        "<a href=\"https://colab.research.google.com/github/datgerhardt/ml-foundations/blob/main/pytorch_basics.ipynb\" target=\"_parent\"><img src=\"https://colab.research.google.com/assets/colab-badge.svg\" alt=\"Open In Colab\"/></a>"
      ]
    },
    {
      "cell_type": "code",
      "metadata": {
        "id": "AUWxXBU2WHEJ"
      },
      "source": [
        "import numpy as np\n",
        "import torch"
      ],
      "execution_count": null,
      "outputs": []
    },
    {
      "cell_type": "code",
      "metadata": {
        "id": "g0HY86TkWUov"
      },
      "source": [
        "# set seed \n",
        "SEED = 1234"
      ],
      "execution_count": null,
      "outputs": []
    },
    {
      "cell_type": "code",
      "metadata": {
        "colab": {
          "base_uri": "https://localhost:8080/"
        },
        "id": "WiM-l0uWWlEO",
        "outputId": "14007a36-57ef-4a9c-9afe-cb4017744be4"
      },
      "source": [
        "# For reproducibility\n",
        "np.random.seed(SEED)\n",
        "torch.manual_seed(SEED)"
      ],
      "execution_count": null,
      "outputs": [
        {
          "output_type": "execute_result",
          "data": {
            "text/plain": [
              "<torch._C.Generator at 0x7ff591a46ad0>"
            ]
          },
          "metadata": {
            "tags": []
          },
          "execution_count": 3
        }
      ]
    },
    {
      "cell_type": "markdown",
      "metadata": {
        "id": "vFGXalEJo2hQ"
      },
      "source": [
        "# Basic"
      ]
    },
    {
      "cell_type": "code",
      "metadata": {
        "id": "RhzgSouiW_bz",
        "colab": {
          "base_uri": "https://localhost:8080/"
        },
        "outputId": "bf297c47-5b57-4e20-afdb-6365f90f882b"
      },
      "source": [
        "# Creating a random tensor\n",
        "x = torch.randn(2,3)\n",
        "print(f\"Type: {x.type()}\")\n",
        "print(\"x: \\n\",x)\n",
        "print(\"x.shape: \", x.shape)"
      ],
      "execution_count": null,
      "outputs": [
        {
          "output_type": "stream",
          "text": [
            "Type: torch.FloatTensor\n",
            "x: \n",
            " tensor([[-0.2039,  0.8738, -0.6816],\n",
            "        [ 0.6339,  0.1922,  0.0918]])\n",
            "x.shape:  torch.Size([2, 3])\n"
          ],
          "name": "stdout"
        }
      ]
    },
    {
      "cell_type": "code",
      "metadata": {
        "colab": {
          "base_uri": "https://localhost:8080/"
        },
        "id": "au3vVmfinkmz",
        "outputId": "0dcea350-164a-49f5-866e-1b842ff10509"
      },
      "source": [
        "# Zeros and Ones tensors\n",
        "x = torch.zeros(2,3)\n",
        "print(\"x: \\n\",x)\n",
        "x = torch.ones(2,3)\n",
        "print(\"x: \\n\",x)"
      ],
      "execution_count": null,
      "outputs": [
        {
          "output_type": "stream",
          "text": [
            "x: \n",
            " tensor([[0., 0., 0.],\n",
            "        [0., 0., 0.]])\n",
            "x: \n",
            " tensor([[1., 1., 1.],\n",
            "        [1., 1., 1.]])\n"
          ],
          "name": "stdout"
        }
      ]
    },
    {
      "cell_type": "code",
      "metadata": {
        "colab": {
          "base_uri": "https://localhost:8080/"
        },
        "id": "2zsWd0DHpWKH",
        "outputId": "c9be5b52-646b-42f2-e3d8-d6d6e84d8f86"
      },
      "source": [
        "# List -> Tensors\n",
        "x = torch.Tensor([[1,2,3],[4,5,6]])\n",
        "print(f\"Size: {x.shape}\")\n",
        "print(f\"Values: \\n {x}\")"
      ],
      "execution_count": null,
      "outputs": [
        {
          "output_type": "stream",
          "text": [
            "Size: torch.Size([2, 3])\n",
            "Values: \n",
            " tensor([[1., 2., 3.],\n",
            "        [4., 5., 6.]])\n"
          ],
          "name": "stdout"
        }
      ]
    },
    {
      "cell_type": "code",
      "metadata": {
        "colab": {
          "base_uri": "https://localhost:8080/"
        },
        "id": "2SBVII7KqTQP",
        "outputId": "e96e4c89-ccb4-4f9e-d4b7-31872e86b503"
      },
      "source": [
        "# NumPy -> Tensor\n",
        "x = torch.Tensor(np.random.rand(2,3))\n",
        "print(f\"Size: {x.shape}\")\n",
        "print(f\"Values: \\n {x}\")"
      ],
      "execution_count": null,
      "outputs": [
        {
          "output_type": "stream",
          "text": [
            "Size: torch.Size([2, 3])\n",
            "Values: \n",
            " tensor([[0.1915, 0.6221, 0.4377],\n",
            "        [0.7854, 0.7800, 0.2726]])\n"
          ],
          "name": "stdout"
        }
      ]
    },
    {
      "cell_type": "code",
      "metadata": {
        "colab": {
          "base_uri": "https://localhost:8080/"
        },
        "id": "DAGBBoOxq1a4",
        "outputId": "bec9c458-3898-4d1b-e305-18a3339dd515"
      },
      "source": [
        "# Changing a type of tensor\n",
        "x = torch.Tensor(2,3)\n",
        "print(f\"Type: {x.type()}\")\n",
        "x = x.long()\n",
        "print(f\"Type: {x.type()}\")"
      ],
      "execution_count": null,
      "outputs": [
        {
          "output_type": "stream",
          "text": [
            "Type: torch.FloatTensor\n",
            "Type: torch.LongTensor\n"
          ],
          "name": "stdout"
        }
      ]
    },
    {
      "cell_type": "markdown",
      "metadata": {
        "id": "h0JNOnIkrsKh"
      },
      "source": [
        "# Operations"
      ]
    },
    {
      "cell_type": "code",
      "metadata": {
        "colab": {
          "base_uri": "https://localhost:8080/"
        },
        "id": "bNu4_9wnrfRC",
        "outputId": "6d2227df-5a02-4926-c3dd-10384ea899ba"
      },
      "source": [
        "# Addition\n",
        "x = torch.randn(2,3)\n",
        "y = torch.randn(2,3)\n",
        "z = x + y\n",
        "print(f\"Size: {z.shape}\")\n",
        "print(f\"Values: \\n {z}\")"
      ],
      "execution_count": null,
      "outputs": [
        {
          "output_type": "stream",
          "text": [
            "Size: torch.Size([2, 3])\n",
            "Values: \n",
            " tensor([[-0.6272, -0.7014, -1.2980],\n",
            "        [-1.7486,  0.7907,  0.2772]])\n"
          ],
          "name": "stdout"
        }
      ]
    },
    {
      "cell_type": "code",
      "metadata": {
        "colab": {
          "base_uri": "https://localhost:8080/"
        },
        "id": "vNThYJTYsJ27",
        "outputId": "f4b165d8-81a6-4db9-ad01-8b550f6971ef"
      },
      "source": [
        "# Dot product\n",
        "x = torch.randn(2,3)\n",
        "y = torch.randn(3,2)\n",
        "z = torch.mm(x, y)\n",
        "print(f\"Size: {z.shape}\")\n",
        "print(f\"Values: \\n {z}\")"
      ],
      "execution_count": null,
      "outputs": [
        {
          "output_type": "stream",
          "text": [
            "Size: torch.Size([2, 2])\n",
            "Values: \n",
            " tensor([[-0.8448, -1.5311],\n",
            "        [-1.1076,  0.1568]])\n"
          ],
          "name": "stdout"
        }
      ]
    },
    {
      "cell_type": "code",
      "metadata": {
        "colab": {
          "base_uri": "https://localhost:8080/"
        },
        "id": "BMfIhUy6s7o-",
        "outputId": "d057890c-0c65-48d3-dc7a-835c15f9c1af"
      },
      "source": [
        "# Transpose\n",
        "x = torch.randn(2,3)\n",
        "print(f\"Size: {x.shape}\")\n",
        "print(f\"Values: \\n {x}\")\n",
        "y = torch.t(x)\n",
        "print(f\"Size of y : {y.shape}\")\n",
        "print(f\"Values of y: \\n {y}\")"
      ],
      "execution_count": null,
      "outputs": [
        {
          "output_type": "stream",
          "text": [
            "Size: torch.Size([2, 3])\n",
            "Values: \n",
            " tensor([[ 0.0685, -1.5104, -1.1706],\n",
            "        [ 0.2259,  1.4696, -1.3284]])\n",
            "Size of y : torch.Size([3, 2])\n",
            "Values of y: \n",
            " tensor([[ 0.0685,  0.2259],\n",
            "        [-1.5104,  1.4696],\n",
            "        [-1.1706, -1.3284]])\n"
          ],
          "name": "stdout"
        }
      ]
    },
    {
      "cell_type": "code",
      "metadata": {
        "colab": {
          "base_uri": "https://localhost:8080/"
        },
        "id": "U48JR-Z7tcnf",
        "outputId": "858b0fa6-2bb2-47ef-8e8e-1810cf78d6a9"
      },
      "source": [
        "# Reshape \n",
        "x = torch.randn(2,3)\n",
        "print(f\"Size: {x.shape}\")\n",
        "print(f\"Values: \\n {x}\")\n",
        "x = x.view(3,2)\n",
        "print(f\"Size: {x.shape}\")\n",
        "print(f\"Values: \\n {x}\")"
      ],
      "execution_count": null,
      "outputs": [
        {
          "output_type": "stream",
          "text": [
            "Size: torch.Size([2, 3])\n",
            "Values: \n",
            " tensor([[ 1.9946, -0.8209,  1.0061],\n",
            "        [-1.0664, -0.4572,  0.0901]])\n",
            "Size: torch.Size([3, 2])\n",
            "Values: \n",
            " tensor([[ 1.9946, -0.8209],\n",
            "        [ 1.0061, -1.0664],\n",
            "        [-0.4572,  0.0901]])\n"
          ],
          "name": "stdout"
        }
      ]
    },
    {
      "cell_type": "code",
      "metadata": {
        "colab": {
          "base_uri": "https://localhost:8080/"
        },
        "id": "eeXO2R5OuIns",
        "outputId": "687c9a83-2229-44a5-ce4a-a3c70b37b303"
      },
      "source": [
        "# Dangers of reshaping (unintended consequences)\n",
        "x = torch.tensor([\n",
        "    [[1,1,1,1], [2,2,2,2], [3,3,3,3]],\n",
        "    [[10,10,10,10], [20,20,20,20], [30,30,30,30]]\n",
        "])\n",
        "print(f\"Size: {x.shape}\")\n",
        "print(f\"x: \\n{x}\\n\")\n",
        "\n",
        "a = x.view(x.size(1), -1)\n",
        "print(f\"Size: {a.shape}\")\n",
        "print(f\"a: \\n{a}\\n\")\n",
        "\n",
        "b = x.transpose(0,1).contiguous()\n",
        "print(f\"Size: {b.shape}\")\n",
        "print(f\"b: \\n{b}\\n\")\n",
        "\n",
        "c = b.view(b.size(0),-1)\n",
        "print(f\"Size: {c.shape}\")\n",
        "print(f\"c: \\n{c}\\n\")"
      ],
      "execution_count": null,
      "outputs": [
        {
          "output_type": "stream",
          "text": [
            "Size: torch.Size([2, 3, 4])\n",
            "x: \n",
            "tensor([[[ 1,  1,  1,  1],\n",
            "         [ 2,  2,  2,  2],\n",
            "         [ 3,  3,  3,  3]],\n",
            "\n",
            "        [[10, 10, 10, 10],\n",
            "         [20, 20, 20, 20],\n",
            "         [30, 30, 30, 30]]])\n",
            "\n",
            "Size: torch.Size([3, 8])\n",
            "a: \n",
            "tensor([[ 1,  1,  1,  1,  2,  2,  2,  2],\n",
            "        [ 3,  3,  3,  3, 10, 10, 10, 10],\n",
            "        [20, 20, 20, 20, 30, 30, 30, 30]])\n",
            "\n",
            "Size: torch.Size([3, 2, 4])\n",
            "b: \n",
            "tensor([[[ 1,  1,  1,  1],\n",
            "         [10, 10, 10, 10]],\n",
            "\n",
            "        [[ 2,  2,  2,  2],\n",
            "         [20, 20, 20, 20]],\n",
            "\n",
            "        [[ 3,  3,  3,  3],\n",
            "         [30, 30, 30, 30]]])\n",
            "\n",
            "Size: torch.Size([3, 8])\n",
            "c: \n",
            "tensor([[ 1,  1,  1,  1, 10, 10, 10, 10],\n",
            "        [ 2,  2,  2,  2, 20, 20, 20, 20],\n",
            "        [ 3,  3,  3,  3, 30, 30, 30, 30]])\n",
            "\n"
          ],
          "name": "stdout"
        }
      ]
    },
    {
      "cell_type": "code",
      "metadata": {
        "colab": {
          "base_uri": "https://localhost:8080/"
        },
        "id": "-mtiA0QiuiB5",
        "outputId": "8095e38f-ee5d-4a77-9d54-17e0664e51e3"
      },
      "source": [
        "# Dimension operation\n",
        "x = torch.randn(2,3)\n",
        "print(f\"Size: {x.shape}\")\n",
        "print(f\"Values: \\n{x}\\n\") \n",
        "\n",
        "a = torch.sum(x, dim=0) # add each row values in column \n",
        "print(f\"Values: \\n{a}\\n\") \n",
        "\n",
        "b = torch.sum(x, dim=1) # add each columns values in row\n",
        "print(f\"Values: \\n{b}\\n\") "
      ],
      "execution_count": null,
      "outputs": [
        {
          "output_type": "stream",
          "text": [
            "Size: torch.Size([2, 3])\n",
            "Values: \n",
            "tensor([[ 1.1733,  0.3714, -2.3531],\n",
            "        [-1.6705, -0.4716,  0.8130]])\n",
            "\n",
            "Values: \n",
            "tensor([-0.4972, -0.1001, -1.5401])\n",
            "\n",
            "Values: \n",
            "tensor([-0.8084, -1.3291])\n",
            "\n"
          ],
          "name": "stdout"
        }
      ]
    },
    {
      "cell_type": "markdown",
      "metadata": {
        "id": "LOrrjr2izWcq"
      },
      "source": [
        "# Indexing "
      ]
    },
    {
      "cell_type": "code",
      "metadata": {
        "colab": {
          "base_uri": "https://localhost:8080/"
        },
        "id": "slOdJorvyWqa",
        "outputId": "438b4716-fb45-485c-ba01-3bcf6dd4ba2a"
      },
      "source": [
        "x = torch.randn(3,4)\n",
        "print(f\"x: \\n{x}\\n\") \n",
        "print(f\"x[:1]: \\n{x[:1]}\\n\") \n",
        "print(f\"x[:1, 1:3]: \\n{x[:1, 1:3]}\\n\") "
      ],
      "execution_count": null,
      "outputs": [
        {
          "output_type": "stream",
          "text": [
            "x: \n",
            "tensor([[-1.6395, -0.8738, -0.8865, -0.8131],\n",
            "        [ 0.1438, -1.5399,  0.1169, -0.1423],\n",
            "        [ 0.1624,  0.4570,  1.1839,  0.8176]])\n",
            "\n",
            "x[:1]: \n",
            "tensor([[-1.6395, -0.8738, -0.8865, -0.8131]])\n",
            "\n",
            "x[:1, 1:3]: \n",
            "tensor([[-0.8738, -0.8865]])\n",
            "\n"
          ],
          "name": "stdout"
        }
      ]
    },
    {
      "cell_type": "markdown",
      "metadata": {
        "id": "O1C8Qql81Xkv"
      },
      "source": [
        "# Slicing"
      ]
    },
    {
      "cell_type": "code",
      "metadata": {
        "colab": {
          "base_uri": "https://localhost:8080/"
        },
        "id": "E8VwTsu00Mrv",
        "outputId": "60339002-6b32-4742-a19a-e0893f2d99f2"
      },
      "source": [
        "# Select with dimensional indicies\n",
        "x = torch.randn(2, 3)\n",
        "print(f\"Values: \\n{x}\")\n",
        "\n",
        "col_indices = torch.LongTensor([0,2])\n",
        "chosen = torch.index_select(x, dim=1, index=col_indices)\n",
        "print(f\"Values: \\n{chosen}\")\n",
        "\n",
        "row_indices = torch.LongTensor([0,1])\n",
        "col_indices = torch.LongTensor([0,2])\n",
        "# print(row_indices, col_indices)\n",
        "chosen = x[row_indices, col_indices]\n",
        "print(f\"Values: \\n{chosen}\")"
      ],
      "execution_count": null,
      "outputs": [
        {
          "output_type": "stream",
          "text": [
            "Values: \n",
            "tensor([[ 0.1647,  0.2463, -0.2627],\n",
            "        [-0.5241, -0.0901,  1.1621]])\n",
            "Values: \n",
            "tensor([[ 0.1647, -0.2627],\n",
            "        [-0.5241,  1.1621]])\n",
            "Values: \n",
            "tensor([0.1647, 1.1621])\n"
          ],
          "name": "stdout"
        }
      ]
    },
    {
      "cell_type": "markdown",
      "metadata": {
        "id": "iNs5yNcL5CHt"
      },
      "source": [
        "# Joining"
      ]
    },
    {
      "cell_type": "code",
      "metadata": {
        "colab": {
          "base_uri": "https://localhost:8080/"
        },
        "id": "oUGEverk290b",
        "outputId": "659d7cdd-6c21-42ab-8ab1-02abb6ad31ba"
      },
      "source": [
        "# Concatination\n",
        "x = torch.randn(2,3)\n",
        "print(f\"Size: \\n{x.shape}\")\n",
        "print(f\"Values: \\n{x}\")\n",
        "y = torch.cat([x,x],dim=0) # Stack by rows\n",
        "print(f\"Size: \\n{y.shape}\")\n",
        "print(f\"Values: \\n{y}\")\n",
        "z = torch.cat([x,x],dim=1) # Stack by columns \n",
        "print(f\"Size: \\n{z.shape}\")\n",
        "print(f\"Values: \\n{z}\")"
      ],
      "execution_count": null,
      "outputs": [
        {
          "output_type": "stream",
          "text": [
            "Size: \n",
            "torch.Size([2, 3])\n",
            "Values: \n",
            "tensor([[ 1.8637, -0.1177,  1.0928],\n",
            "        [-0.9760,  0.4906, -0.2545]])\n",
            "Size: \n",
            "torch.Size([4, 3])\n",
            "Values: \n",
            "tensor([[ 1.8637, -0.1177,  1.0928],\n",
            "        [-0.9760,  0.4906, -0.2545],\n",
            "        [ 1.8637, -0.1177,  1.0928],\n",
            "        [-0.9760,  0.4906, -0.2545]])\n",
            "Size: \n",
            "torch.Size([2, 6])\n",
            "Values: \n",
            "tensor([[ 1.8637, -0.1177,  1.0928,  1.8637, -0.1177,  1.0928],\n",
            "        [-0.9760,  0.4906, -0.2545, -0.9760,  0.4906, -0.2545]])\n"
          ],
          "name": "stdout"
        }
      ]
    },
    {
      "cell_type": "markdown",
      "metadata": {
        "id": "C_2CEPqe7k5m"
      },
      "source": [
        "# Gradients"
      ]
    },
    {
      "cell_type": "code",
      "metadata": {
        "colab": {
          "base_uri": "https://localhost:8080/"
        },
        "id": "CbfYzswE6OuU",
        "outputId": "9e4de9be-188f-4410-b402-f59d7404ebb0"
      },
      "source": [
        "# Tensors with gradient bookkeeping\n",
        "x = torch.randn(2,3, requires_grad=True)\n",
        "y = 3*x + 2\n",
        "z = y.mean()\n",
        "z.backward()\n",
        "print(f\"x: \\n{x}\\n\")\n",
        "print(f\"mean: {z} \\n\")\n",
        "print(f\"x.grad: \\n{x.grad}\")"
      ],
      "execution_count": null,
      "outputs": [
        {
          "output_type": "stream",
          "text": [
            "x: \n",
            "tensor([[-0.4744,  0.4424,  1.2949],\n",
            "        [ 0.2567, -0.9681, -0.5874]], requires_grad=True)\n",
            "\n",
            "mean: 1.9820137023925781 \n",
            "\n",
            "x.grad: \n",
            "tensor([[0.5000, 0.5000, 0.5000],\n",
            "        [0.5000, 0.5000, 0.5000]])\n"
          ],
          "name": "stdout"
        }
      ]
    },
    {
      "cell_type": "markdown",
      "metadata": {
        "id": "tUro0xVx9OZ3"
      },
      "source": [
        "# CUDA "
      ]
    },
    {
      "cell_type": "code",
      "metadata": {
        "colab": {
          "base_uri": "https://localhost:8080/"
        },
        "id": "RMT-gtJ88a-m",
        "outputId": "83c66189-e280-4250-d4a3-fb860eef13b2"
      },
      "source": [
        "# Is CUDA available?\n",
        "print(torch.cuda.is_available())"
      ],
      "execution_count": null,
      "outputs": [
        {
          "output_type": "stream",
          "text": [
            "False\n"
          ],
          "name": "stdout"
        }
      ]
    },
    {
      "cell_type": "code",
      "metadata": {
        "id": "TS2VTJIM9Z_T"
      },
      "source": [
        "import torch"
      ],
      "execution_count": null,
      "outputs": []
    },
    {
      "cell_type": "code",
      "metadata": {
        "colab": {
          "base_uri": "https://localhost:8080/"
        },
        "id": "wUCmeYpO9plA",
        "outputId": "d0612f10-6744-485c-c0fa-1d8f460085fb"
      },
      "source": [
        "# Is CUDA available?\n",
        "print(torch.cuda.is_available())"
      ],
      "execution_count": null,
      "outputs": [
        {
          "output_type": "stream",
          "text": [
            "True\n"
          ],
          "name": "stdout"
        }
      ]
    },
    {
      "cell_type": "code",
      "metadata": {
        "colab": {
          "base_uri": "https://localhost:8080/"
        },
        "id": "hB6iyd9A90e4",
        "outputId": "34fb6845-5cd5-4493-b23e-d46ccdd2c4fc"
      },
      "source": [
        "# Set device\n",
        "device = torch.device('cuda' if torch.cuda.is_available() else \"cpu\")\n",
        "print(device)"
      ],
      "execution_count": null,
      "outputs": [
        {
          "output_type": "stream",
          "text": [
            "cuda\n"
          ],
          "name": "stdout"
        }
      ]
    },
    {
      "cell_type": "code",
      "metadata": {
        "colab": {
          "base_uri": "https://localhost:8080/"
        },
        "id": "xnolbSwu-qHo",
        "outputId": "3c763fab-f032-4e50-d1b4-c216924464ba"
      },
      "source": [
        "x = torch.rand(2,3)\n",
        "print(x.is_cuda)\n",
        "x = x.to(device)\n",
        "print(x.is_cuda)"
      ],
      "execution_count": null,
      "outputs": [
        {
          "output_type": "stream",
          "text": [
            "False\n",
            "True\n"
          ],
          "name": "stdout"
        }
      ]
    },
    {
      "cell_type": "markdown",
      "metadata": {
        "id": "tsMrdAUJACWb"
      },
      "source": [
        "# Resouces\n",
        "[Made with ml](https://madewithml.com/courses/basics/pytorch/)\n",
        "\n",
        "[PyTorch Docs](https://pytorch.org/docs/stable/torch.html)"
      ]
    }
  ]
}